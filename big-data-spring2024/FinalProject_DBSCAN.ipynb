{
 "cells": [
  {
   "cell_type": "code",
   "execution_count": 1,
   "id": "a043d8c6",
   "metadata": {},
   "outputs": [],
   "source": [
    "# Importing each library and package\n",
    "import numpy as np\n",
    "import pandas as pd\n",
    "import matplotlib.pyplot as plt"
   ]
  },
  {
   "cell_type": "code",
   "execution_count": 2,
   "id": "106aeb16",
   "metadata": {},
   "outputs": [],
   "source": [
    "# Putting the data into a Pandas data frame\n",
    "df = pd.read_csv(\"data_2017_2021.csv\")"
   ]
  },
  {
   "cell_type": "code",
   "execution_count": 3,
   "id": "f222c392",
   "metadata": {},
   "outputs": [
    {
     "data": {
      "text/html": [
       "<div>\n",
       "<style scoped>\n",
       "    .dataframe tbody tr th:only-of-type {\n",
       "        vertical-align: middle;\n",
       "    }\n",
       "\n",
       "    .dataframe tbody tr th {\n",
       "        vertical-align: top;\n",
       "    }\n",
       "\n",
       "    .dataframe thead th {\n",
       "        text-align: right;\n",
       "    }\n",
       "</style>\n",
       "<table border=\"1\" class=\"dataframe\">\n",
       "  <thead>\n",
       "    <tr style=\"text-align: right;\">\n",
       "      <th></th>\n",
       "      <th>LastName</th>\n",
       "      <th>FirstName</th>\n",
       "      <th>Gender</th>\n",
       "      <th>Country</th>\n",
       "      <th>Date</th>\n",
       "      <th>Competition</th>\n",
       "      <th>Round</th>\n",
       "      <th>Location</th>\n",
       "      <th>Apparatus</th>\n",
       "      <th>Rank</th>\n",
       "      <th>D_Score</th>\n",
       "      <th>E_Score</th>\n",
       "      <th>Penalty</th>\n",
       "      <th>Score</th>\n",
       "    </tr>\n",
       "  </thead>\n",
       "  <tbody>\n",
       "    <tr>\n",
       "      <th>0</th>\n",
       "      <td>ABDUL</td>\n",
       "      <td>HADI</td>\n",
       "      <td>w</td>\n",
       "      <td>MAS</td>\n",
       "      <td>SUN 25 JUL 2021</td>\n",
       "      <td>Olympic Games</td>\n",
       "      <td>AAqual</td>\n",
       "      <td>Tokyo, Japan</td>\n",
       "      <td>BB</td>\n",
       "      <td>76.0</td>\n",
       "      <td>4.8</td>\n",
       "      <td>6.766</td>\n",
       "      <td>NaN</td>\n",
       "      <td>11.566</td>\n",
       "    </tr>\n",
       "    <tr>\n",
       "      <th>1</th>\n",
       "      <td>ABDUL</td>\n",
       "      <td>HADI</td>\n",
       "      <td>w</td>\n",
       "      <td>MAS</td>\n",
       "      <td>SUN 25 JUL 2021</td>\n",
       "      <td>Olympic Games</td>\n",
       "      <td>AAqual</td>\n",
       "      <td>Tokyo, Japan</td>\n",
       "      <td>FX</td>\n",
       "      <td>64.0</td>\n",
       "      <td>4.6</td>\n",
       "      <td>7.633</td>\n",
       "      <td>NaN</td>\n",
       "      <td>12.233</td>\n",
       "    </tr>\n",
       "    <tr>\n",
       "      <th>2</th>\n",
       "      <td>ABDUL</td>\n",
       "      <td>HADI</td>\n",
       "      <td>w</td>\n",
       "      <td>MAS</td>\n",
       "      <td>SUN 25 JUL 2021</td>\n",
       "      <td>Olympic Games</td>\n",
       "      <td>AAqual</td>\n",
       "      <td>Tokyo, Japan</td>\n",
       "      <td>UE</td>\n",
       "      <td>74.0</td>\n",
       "      <td>5.1</td>\n",
       "      <td>6.500</td>\n",
       "      <td>NaN</td>\n",
       "      <td>11.600</td>\n",
       "    </tr>\n",
       "    <tr>\n",
       "      <th>3</th>\n",
       "      <td>ABDUL</td>\n",
       "      <td>HADI</td>\n",
       "      <td>w</td>\n",
       "      <td>MAS</td>\n",
       "      <td>SUN 25 JUL 2021</td>\n",
       "      <td>Olympic Games</td>\n",
       "      <td>AAqual</td>\n",
       "      <td>Tokyo, Japan</td>\n",
       "      <td>VT</td>\n",
       "      <td>72.0</td>\n",
       "      <td>4.6</td>\n",
       "      <td>8.566</td>\n",
       "      <td>NaN</td>\n",
       "      <td>13.166</td>\n",
       "    </tr>\n",
       "    <tr>\n",
       "      <th>4</th>\n",
       "      <td>ABDUL HADI</td>\n",
       "      <td>Farah Ann</td>\n",
       "      <td>w</td>\n",
       "      <td>MAS</td>\n",
       "      <td>25-Jul-21</td>\n",
       "      <td>Olympic Games</td>\n",
       "      <td>qual</td>\n",
       "      <td>Tokyo, Japan</td>\n",
       "      <td>BB</td>\n",
       "      <td>76.0</td>\n",
       "      <td>4.8</td>\n",
       "      <td>6.766</td>\n",
       "      <td>NaN</td>\n",
       "      <td>11.566</td>\n",
       "    </tr>\n",
       "    <tr>\n",
       "      <th>...</th>\n",
       "      <td>...</td>\n",
       "      <td>...</td>\n",
       "      <td>...</td>\n",
       "      <td>...</td>\n",
       "      <td>...</td>\n",
       "      <td>...</td>\n",
       "      <td>...</td>\n",
       "      <td>...</td>\n",
       "      <td>...</td>\n",
       "      <td>...</td>\n",
       "      <td>...</td>\n",
       "      <td>...</td>\n",
       "      <td>...</td>\n",
       "      <td>...</td>\n",
       "    </tr>\n",
       "    <tr>\n",
       "      <th>1040</th>\n",
       "      <td>de</td>\n",
       "      <td>JESUS</td>\n",
       "      <td>w</td>\n",
       "      <td>FRA</td>\n",
       "      <td>SUN 25 JUL 2021</td>\n",
       "      <td>Olympic Games</td>\n",
       "      <td>AAqual</td>\n",
       "      <td>Tokyo, Japan</td>\n",
       "      <td>VT</td>\n",
       "      <td>19.0</td>\n",
       "      <td>5.4</td>\n",
       "      <td>9.166</td>\n",
       "      <td>0.1</td>\n",
       "      <td>14.466</td>\n",
       "    </tr>\n",
       "    <tr>\n",
       "      <th>1041</th>\n",
       "      <td>van</td>\n",
       "      <td>POL</td>\n",
       "      <td>w</td>\n",
       "      <td>NED</td>\n",
       "      <td>SUN 25 JUL 2021</td>\n",
       "      <td>Olympic Games</td>\n",
       "      <td>AAqual</td>\n",
       "      <td>Tokyo, Japan</td>\n",
       "      <td>BB</td>\n",
       "      <td>75.0</td>\n",
       "      <td>4.7</td>\n",
       "      <td>6.900</td>\n",
       "      <td>NaN</td>\n",
       "      <td>11.600</td>\n",
       "    </tr>\n",
       "    <tr>\n",
       "      <th>1042</th>\n",
       "      <td>van</td>\n",
       "      <td>POL</td>\n",
       "      <td>w</td>\n",
       "      <td>NED</td>\n",
       "      <td>SUN 25 JUL 2021</td>\n",
       "      <td>Olympic Games</td>\n",
       "      <td>AAqual</td>\n",
       "      <td>Tokyo, Japan</td>\n",
       "      <td>FX</td>\n",
       "      <td>33.0</td>\n",
       "      <td>4.9</td>\n",
       "      <td>8.000</td>\n",
       "      <td>NaN</td>\n",
       "      <td>12.900</td>\n",
       "    </tr>\n",
       "    <tr>\n",
       "      <th>1043</th>\n",
       "      <td>van</td>\n",
       "      <td>POL</td>\n",
       "      <td>w</td>\n",
       "      <td>NED</td>\n",
       "      <td>SUN 25 JUL 2021</td>\n",
       "      <td>Olympic Games</td>\n",
       "      <td>AAqual</td>\n",
       "      <td>Tokyo, Japan</td>\n",
       "      <td>UE</td>\n",
       "      <td>41.0</td>\n",
       "      <td>5.3</td>\n",
       "      <td>7.833</td>\n",
       "      <td>NaN</td>\n",
       "      <td>13.133</td>\n",
       "    </tr>\n",
       "    <tr>\n",
       "      <th>1044</th>\n",
       "      <td>van</td>\n",
       "      <td>POL</td>\n",
       "      <td>w</td>\n",
       "      <td>NED</td>\n",
       "      <td>SUN 25 JUL 2021</td>\n",
       "      <td>Olympic Games</td>\n",
       "      <td>AAqual</td>\n",
       "      <td>Tokyo, Japan</td>\n",
       "      <td>VT</td>\n",
       "      <td>38.0</td>\n",
       "      <td>5.0</td>\n",
       "      <td>9.100</td>\n",
       "      <td>NaN</td>\n",
       "      <td>14.100</td>\n",
       "    </tr>\n",
       "  </tbody>\n",
       "</table>\n",
       "<p>1045 rows × 14 columns</p>\n",
       "</div>"
      ],
      "text/plain": [
       "        LastName  FirstName Gender Country             Date    Competition  \\\n",
       "0          ABDUL       HADI      w     MAS  SUN 25 JUL 2021  Olympic Games   \n",
       "1          ABDUL       HADI      w     MAS  SUN 25 JUL 2021  Olympic Games   \n",
       "2          ABDUL       HADI      w     MAS  SUN 25 JUL 2021  Olympic Games   \n",
       "3          ABDUL       HADI      w     MAS  SUN 25 JUL 2021  Olympic Games   \n",
       "4     ABDUL HADI  Farah Ann      w     MAS        25-Jul-21  Olympic Games   \n",
       "...          ...        ...    ...     ...              ...            ...   \n",
       "1040          de      JESUS      w     FRA  SUN 25 JUL 2021  Olympic Games   \n",
       "1041         van        POL      w     NED  SUN 25 JUL 2021  Olympic Games   \n",
       "1042         van        POL      w     NED  SUN 25 JUL 2021  Olympic Games   \n",
       "1043         van        POL      w     NED  SUN 25 JUL 2021  Olympic Games   \n",
       "1044         van        POL      w     NED  SUN 25 JUL 2021  Olympic Games   \n",
       "\n",
       "       Round      Location Apparatus  Rank  D_Score  E_Score  Penalty   Score  \n",
       "0     AAqual  Tokyo, Japan        BB  76.0      4.8    6.766      NaN  11.566  \n",
       "1     AAqual  Tokyo, Japan        FX  64.0      4.6    7.633      NaN  12.233  \n",
       "2     AAqual  Tokyo, Japan        UE  74.0      5.1    6.500      NaN  11.600  \n",
       "3     AAqual  Tokyo, Japan        VT  72.0      4.6    8.566      NaN  13.166  \n",
       "4       qual  Tokyo, Japan        BB  76.0      4.8    6.766      NaN  11.566  \n",
       "...      ...           ...       ...   ...      ...      ...      ...     ...  \n",
       "1040  AAqual  Tokyo, Japan        VT  19.0      5.4    9.166      0.1  14.466  \n",
       "1041  AAqual  Tokyo, Japan        BB  75.0      4.7    6.900      NaN  11.600  \n",
       "1042  AAqual  Tokyo, Japan        FX  33.0      4.9    8.000      NaN  12.900  \n",
       "1043  AAqual  Tokyo, Japan        UE  41.0      5.3    7.833      NaN  13.133  \n",
       "1044  AAqual  Tokyo, Japan        VT  38.0      5.0    9.100      NaN  14.100  \n",
       "\n",
       "[1045 rows x 14 columns]"
      ]
     },
     "execution_count": 3,
     "metadata": {},
     "output_type": "execute_result"
    }
   ],
   "source": [
    "df"
   ]
  },
  {
   "cell_type": "code",
   "execution_count": 4,
   "id": "71caacf5",
   "metadata": {},
   "outputs": [
    {
     "data": {
      "text/plain": [
       "(1045, 14)"
      ]
     },
     "execution_count": 4,
     "metadata": {},
     "output_type": "execute_result"
    }
   ],
   "source": [
    "# Checking the shape of the dataset\n",
    "df.shape"
   ]
  },
  {
   "cell_type": "code",
   "execution_count": 5,
   "id": "fba5bafd",
   "metadata": {},
   "outputs": [],
   "source": [
    "# Putting only Difficulty and Execution Score in the data frame\n",
    "df = df.iloc[:, [10,11]].values"
   ]
  },
  {
   "cell_type": "code",
   "execution_count": 6,
   "id": "d411968f",
   "metadata": {},
   "outputs": [
    {
     "data": {
      "text/plain": [
       "array([[4.8  , 6.766],\n",
       "       [4.6  , 7.633],\n",
       "       [5.1  , 6.5  ],\n",
       "       ...,\n",
       "       [4.9  , 8.   ],\n",
       "       [5.3  , 7.833],\n",
       "       [5.   , 9.1  ]])"
      ]
     },
     "execution_count": 6,
     "metadata": {},
     "output_type": "execute_result"
    }
   ],
   "source": [
    "df"
   ]
  },
  {
   "cell_type": "code",
   "execution_count": 7,
   "id": "c982ef53",
   "metadata": {},
   "outputs": [
    {
     "data": {
      "text/plain": [
       "<matplotlib.collections.PathCollection at 0x1f4b8e00970>"
      ]
     },
     "execution_count": 7,
     "metadata": {},
     "output_type": "execute_result"
    },
    {
     "data": {
      "image/png": "[encoded data removed]",
      "text/plain": [
       "<Figure size 432x288 with 1 Axes>"
      ]
     },
     "metadata": {
      "needs_background": "light"
     },
     "output_type": "display_data"
    }
   ],
   "source": [
    "# Creating a scatter plot with the two attributes\n",
    "plt.scatter(df[:,0], df[:,1], s=10, c=\"red\")"
   ]
  },
  {
   "cell_type": "code",
   "execution_count": 8,
   "id": "9e3a2f8b",
   "metadata": {},
   "outputs": [],
   "source": [
    "# Import KMeans class to use the elbow method\n",
    "from sklearn.cluster import KMeans"
   ]
  },
  {
   "cell_type": "code",
   "execution_count": 9,
   "id": "4d5b4802",
   "metadata": {},
   "outputs": [
    {
     "name": "stderr",
     "output_type": "stream",
     "text": [
      "C:\\Users\\Owner\\anaconda3\\lib\\site-packages\\sklearn\\cluster\\_kmeans.py:881: UserWarning: KMeans is known to have a memory leak on Windows with MKL, when there are less chunks than available threads. You can avoid it by setting the environment variable OMP_NUM_THREADS=5.\n",
      "  warnings.warn(\n"
     ]
    },
    {
     "data": {
      "image/png": "[encoded data removed]",
      "text/plain": [
       "<Figure size 432x288 with 1 Axes>"
      ]
     },
     "metadata": {
      "needs_background": "light"
     },
     "output_type": "display_data"
    }
   ],
   "source": [
    "# The elbow method using a for loop\n",
    "wcss = []\n",
    "for k in range(1,11):\n",
    "    kmeans = KMeans(n_clusters=k,\n",
    "    init = 'k-means++', max_iter= 300, n_init= 10)\n",
    "    kmeans.fit(df)\n",
    "    wcss.append(kmeans.inertia_)\n",
    "plt.plot(range(1,11), wcss)\n",
    "plt.title(\"The elbow method\")\n",
    "plt.xlabel(\"Number of Clusters\")\n",
    "plt.ylabel(\"WCSS\")\n",
    "plt.show()"
   ]
  },
  {
   "cell_type": "code",
   "execution_count": 10,
   "id": "1cb9fad1",
   "metadata": {},
   "outputs": [],
   "source": [
    "# Importing DBSCAN class\n",
    "from sklearn.cluster import DBSCAN"
   ]
  },
  {
   "cell_type": "code",
   "execution_count": 27,
   "id": "40578961",
   "metadata": {},
   "outputs": [],
   "source": [
    "# Creating DBSCAN object with epsilon and minimum points parameters\n",
    "dbscan = DBSCAN(eps=0.5, min_samples=3)"
   ]
  },
  {
   "cell_type": "code",
   "execution_count": 28,
   "id": "d75b1f3e",
   "metadata": {},
   "outputs": [],
   "source": [
    "# Fitting the data\n",
    "labels = dbscan.fit_predict(df)"
   ]
  },
  {
   "cell_type": "code",
   "execution_count": 29,
   "id": "786f2150",
   "metadata": {},
   "outputs": [
    {
     "data": {
      "text/plain": [
       "array([-1,  0,  1,  2], dtype=int64)"
      ]
     },
     "execution_count": 29,
     "metadata": {},
     "output_type": "execute_result"
    }
   ],
   "source": [
    "# Outputting the number of clusters\n",
    "np.unique(labels)"
   ]
  },
  {
   "cell_type": "code",
   "execution_count": 34,
   "id": "dc8afa9d",
   "metadata": {},
   "outputs": [
    {
     "data": {
      "text/plain": [
       "Text(0, 0.5, 'Execution Score')"
      ]
     },
     "execution_count": 34,
     "metadata": {},
     "output_type": "execute_result"
    },
    {
     "data": {
      "image/png": "[encoded data removed]",
      "text/plain": [
       "<Figure size 432x288 with 1 Axes>"
      ]
     },
     "metadata": {
      "needs_background": "light"
     },
     "output_type": "display_data"
    }
   ],
   "source": [
    "# Plotting the data\n",
    "\n",
    "plt.scatter(df[labels==-1, 0], df[labels==-1,1], s=20, c=\"red\")\n",
    "plt.scatter(df[labels==0, 0], df[labels==0,1], s=20, c=\"green\")\n",
    "plt.scatter(df[labels==1, 0], df[labels==1,1], s=20, c=\"yellow\")\n",
    "plt.scatter(df[labels==2, 0], df[labels==2,1], s=20, c=\"blue\")\n",
    "\n",
    "plt.xlabel(\"Difficulty Score\")\n",
    "plt.ylabel(\"Execution Score\")"
   ]
  }
 ],
 "metadata": {
  "kernelspec": {
   "display_name": "Python 3 (ipykernel)",
   "language": "python",
   "name": "python3"
  },
  "language_info": {
   "codemirror_mode": {
    "name": "ipython",
    "version": 3
   },
   "file_extension": ".py",
   "mimetype": "text/x-python",
   "name": "python",
   "nbconvert_exporter": "python",
   "pygments_lexer": "ipython3",
   "version": "3.9.7"
  }
 },
 "nbformat": 4,
 "nbformat_minor": 5
}
