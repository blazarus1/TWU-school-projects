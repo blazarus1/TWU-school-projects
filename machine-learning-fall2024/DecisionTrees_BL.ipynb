{
 "cells": [
  {
   "cell_type": "code",
   "execution_count": 1,
   "id": "c264083c",
   "metadata": {},
   "outputs": [],
   "source": [
    "# correct imports for the assignment, decision tree and random forest\n",
    "import pandas as pd\n",
    "from sklearn.tree import DecisionTreeClassifier\n",
    "from sklearn.ensemble import RandomForestClassifier\n",
    "from sklearn.model_selection import train_test_split"
   ]
  },
  {
   "cell_type": "code",
   "execution_count": 2,
   "id": "db369ed6",
   "metadata": {},
   "outputs": [],
   "source": [
    "emails = pd.read_csv('emails.csv', header=0)"
   ]
  },
  {
   "cell_type": "code",
   "execution_count": 3,
   "id": "03d41be8",
   "metadata": {},
   "outputs": [
    {
     "name": "stdout",
     "output_type": "stream",
     "text": [
      "   known sender  long length  has keyword search  has keyword grade  \\\n",
      "0             0            0                   1                  1   \n",
      "1             1            1                   0                  1   \n",
      "2             0            1                   1                  1   \n",
      "3             1            1                   1                  1   \n",
      "4             0            1                   0                  0   \n",
      "\n",
      "   has keyword lottery  y  \n",
      "0                    0 -1  \n",
      "1                    0 -1  \n",
      "2                    1 -1  \n",
      "3                    0 -1  \n",
      "4                    0 -1  \n"
     ]
    }
   ],
   "source": [
    "print(emails.head())"
   ]
  },
  {
   "cell_type": "code",
   "execution_count": 4,
   "id": "ee496c40",
   "metadata": {},
   "outputs": [],
   "source": [
    "X = emails.drop(columns=['y'])\n",
    "y = emails['y']"
   ]
  },
  {
   "cell_type": "code",
   "execution_count": 5,
   "id": "76bd7e06",
   "metadata": {},
   "outputs": [
    {
     "name": "stdout",
     "output_type": "stream",
     "text": [
      "   known sender  long length  has keyword search  has keyword grade  \\\n",
      "0             0            0                   1                  1   \n",
      "1             1            1                   0                  1   \n",
      "2             0            1                   1                  1   \n",
      "3             1            1                   1                  1   \n",
      "4             0            1                   0                  0   \n",
      "5             1            0                   1                  1   \n",
      "6             0            0                   1                  0   \n",
      "7             1            0                   0                  0   \n",
      "8             1            0                   1                  1   \n",
      "9             1            1                   1                  1   \n",
      "\n",
      "   has keyword lottery  \n",
      "0                    0  \n",
      "1                    0  \n",
      "2                    1  \n",
      "3                    0  \n",
      "4                    0  \n",
      "5                    1  \n",
      "6                    0  \n",
      "7                    0  \n",
      "8                    0  \n",
      "9                    1  \n"
     ]
    }
   ],
   "source": [
    "print(X)"
   ]
  },
  {
   "cell_type": "code",
   "execution_count": 6,
   "id": "c8688792",
   "metadata": {},
   "outputs": [
    {
     "name": "stdout",
     "output_type": "stream",
     "text": [
      "0   -1\n",
      "1   -1\n",
      "2   -1\n",
      "3   -1\n",
      "4   -1\n",
      "5    1\n",
      "6    1\n",
      "7    1\n",
      "8    1\n",
      "9   -1\n",
      "Name: y, dtype: int64\n"
     ]
    }
   ],
   "source": [
    "print(y)"
   ]
  },
  {
   "cell_type": "code",
   "execution_count": 19,
   "id": "927b8a9c",
   "metadata": {},
   "outputs": [],
   "source": [
    "X_train, X_test, y_train, y_test = train_test_split(X, y, test_size = 0.2, random_state=42)"
   ]
  },
  {
   "cell_type": "code",
   "execution_count": 20,
   "id": "c6309bef",
   "metadata": {},
   "outputs": [
    {
     "name": "stdout",
     "output_type": "stream",
     "text": [
      "(8, 5)\n",
      "(2, 5)\n",
      "(8,)\n",
      "(2,)\n"
     ]
    }
   ],
   "source": [
    "print(X_train.shape)\n",
    "print(X_test.shape)\n",
    "print(y_train.shape)\n",
    "print(y_test.shape)"
   ]
  },
  {
   "cell_type": "markdown",
   "id": "db72652f",
   "metadata": {},
   "source": [
    "## Decision Tree"
   ]
  },
  {
   "cell_type": "code",
   "execution_count": 52,
   "id": "82a7b142",
   "metadata": {},
   "outputs": [
    {
     "data": {
      "text/plain": [
       "DecisionTreeClassifier(max_depth=1, random_state=0)"
      ]
     },
     "execution_count": 52,
     "metadata": {},
     "output_type": "execute_result"
    }
   ],
   "source": [
    "tree = DecisionTreeClassifier(max_depth=1, random_state=0)\n",
    "\n",
    "tree.fit(X_train, y_train)"
   ]
  },
  {
   "cell_type": "code",
   "execution_count": 53,
   "id": "a27684f4",
   "metadata": {},
   "outputs": [
    {
     "name": "stdout",
     "output_type": "stream",
     "text": [
      "Accuracy on training set: 0.875\n",
      "Accuracy on test set: 1.000\n"
     ]
    }
   ],
   "source": [
    "print(\"Accuracy on training set: {:.3f}\".format(tree.score(X_train, y_train)))\n",
    "print(\"Accuracy on test set: {:.3f}\".format(tree.score(X_test, y_test)))"
   ]
  },
  {
   "cell_type": "code",
   "execution_count": 44,
   "id": "3938b0fd",
   "metadata": {},
   "outputs": [],
   "source": [
    "from sklearn.tree import export_graphviz\n",
    "feature_cols = emails.columns[:5].tolist()\n",
    "export_graphviz(tree, out_file=\"tree.dot\", class_names=[\"-1\", \"1\"], feature_names=feature_cols, impurity=False, filled=True)"
   ]
  },
  {
   "cell_type": "code",
   "execution_count": 45,
   "id": "3d541ca8",
   "metadata": {},
   "outputs": [
    {
     "data": {
      "image/svg+xml": [
       "<?xml version=\"1.0\" encoding=\"UTF-8\" standalone=\"no\"?>\n",
       "<!DOCTYPE svg PUBLIC \"-//W3C//DTD SVG 1.1//EN\"\n",
       " \"http://www.w3.org/Graphics/SVG/1.1/DTD/svg11.dtd\">\n",
       "<!-- Generated by graphviz version 12.1.1 (20240910.0053)\n",
       " -->\n",
       "<!-- Title: Tree Pages: 1 -->\n",
       "<svg width=\"355pt\" height=\"396pt\"\n",
       " viewBox=\"0.00 0.00 355.00 395.50\" xmlns=\"http://www.w3.org/2000/svg\" xmlns:xlink=\"http://www.w3.org/1999/xlink\">\n",
       "<g id=\"graph0\" class=\"graph\" transform=\"scale(1 1) rotate(0) translate(4 391.5)\">\n",
       "<title>Tree</title>\n",
       "<polygon fill=\"white\" stroke=\"none\" points=\"-4,4 -4,-391.5 351,-391.5 351,4 -4,4\"/>\n",
       "<!-- 0 -->\n",
       "<g id=\"node1\" class=\"node\">\n",
       "<title>0</title>\n",
       "<polygon fill=\"#f5cdb0\" stroke=\"black\" points=\"295.88,-387.5 177.12,-387.5 177.12,-313.5 295.88,-313.5 295.88,-387.5\"/>\n",
       "<text text-anchor=\"middle\" x=\"236.5\" y=\"-370.2\" font-family=\"Times New Roman,serif\" font-size=\"14.00\">long length &lt;= 0.5</text>\n",
       "<text text-anchor=\"middle\" x=\"236.5\" y=\"-353.7\" font-family=\"Times New Roman,serif\" font-size=\"14.00\">samples = 8</text>\n",
       "<text text-anchor=\"middle\" x=\"236.5\" y=\"-337.2\" font-family=\"Times New Roman,serif\" font-size=\"14.00\">value = [5, 3]</text>\n",
       "<text text-anchor=\"middle\" x=\"236.5\" y=\"-320.7\" font-family=\"Times New Roman,serif\" font-size=\"14.00\">class = &#45;1</text>\n",
       "</g>\n",
       "<!-- 1 -->\n",
       "<g id=\"node2\" class=\"node\">\n",
       "<title>1</title>\n",
       "<polygon fill=\"#7bbeee\" stroke=\"black\" points=\"238,-277.5 105,-277.5 105,-203.5 238,-203.5 238,-277.5\"/>\n",
       "<text text-anchor=\"middle\" x=\"171.5\" y=\"-260.2\" font-family=\"Times New Roman,serif\" font-size=\"14.00\">known sender &lt;= 0.5</text>\n",
       "<text text-anchor=\"middle\" x=\"171.5\" y=\"-243.7\" font-family=\"Times New Roman,serif\" font-size=\"14.00\">samples = 4</text>\n",
       "<text text-anchor=\"middle\" x=\"171.5\" y=\"-227.2\" font-family=\"Times New Roman,serif\" font-size=\"14.00\">value = [1, 3]</text>\n",
       "<text text-anchor=\"middle\" x=\"171.5\" y=\"-210.7\" font-family=\"Times New Roman,serif\" font-size=\"14.00\">class = 1</text>\n",
       "</g>\n",
       "<!-- 0&#45;&gt;1 -->\n",
       "<g id=\"edge1\" class=\"edge\">\n",
       "<title>0&#45;&gt;1</title>\n",
       "<path fill=\"none\" stroke=\"black\" d=\"M214.68,-313.24C209.74,-305.04 204.45,-296.24 199.31,-287.7\"/>\n",
       "<polygon fill=\"black\" stroke=\"black\" points=\"202.31,-285.91 194.16,-279.15 196.32,-289.52 202.31,-285.91\"/>\n",
       "<text text-anchor=\"middle\" x=\"187.35\" y=\"-297.06\" font-family=\"Times New Roman,serif\" font-size=\"14.00\">True</text>\n",
       "</g>\n",
       "<!-- 6 -->\n",
       "<g id=\"node7\" class=\"node\">\n",
       "<title>6</title>\n",
       "<polygon fill=\"#e58139\" stroke=\"black\" points=\"347,-269.25 256,-269.25 256,-211.75 347,-211.75 347,-269.25\"/>\n",
       "<text text-anchor=\"middle\" x=\"301.5\" y=\"-251.95\" font-family=\"Times New Roman,serif\" font-size=\"14.00\">samples = 4</text>\n",
       "<text text-anchor=\"middle\" x=\"301.5\" y=\"-235.45\" font-family=\"Times New Roman,serif\" font-size=\"14.00\">value = [4, 0]</text>\n",
       "<text text-anchor=\"middle\" x=\"301.5\" y=\"-218.95\" font-family=\"Times New Roman,serif\" font-size=\"14.00\">class = &#45;1</text>\n",
       "</g>\n",
       "<!-- 0&#45;&gt;6 -->\n",
       "<g id=\"edge6\" class=\"edge\">\n",
       "<title>0&#45;&gt;6</title>\n",
       "<path fill=\"none\" stroke=\"black\" d=\"M258.32,-313.24C264.88,-302.35 272.08,-290.39 278.69,-279.4\"/>\n",
       "<polygon fill=\"black\" stroke=\"black\" points=\"281.62,-281.31 283.78,-270.94 275.63,-277.7 281.62,-281.31\"/>\n",
       "<text text-anchor=\"middle\" x=\"290.59\" y=\"-288.85\" font-family=\"Times New Roman,serif\" font-size=\"14.00\">False</text>\n",
       "</g>\n",
       "<!-- 2 -->\n",
       "<g id=\"node3\" class=\"node\">\n",
       "<title>2</title>\n",
       "<polygon fill=\"#ffffff\" stroke=\"black\" points=\"179.5,-167.5 19.5,-167.5 19.5,-93.5 179.5,-93.5 179.5,-167.5\"/>\n",
       "<text text-anchor=\"middle\" x=\"99.5\" y=\"-150.2\" font-family=\"Times New Roman,serif\" font-size=\"14.00\">has keyword grade &lt;= 0.5</text>\n",
       "<text text-anchor=\"middle\" x=\"99.5\" y=\"-133.7\" font-family=\"Times New Roman,serif\" font-size=\"14.00\">samples = 2</text>\n",
       "<text text-anchor=\"middle\" x=\"99.5\" y=\"-117.2\" font-family=\"Times New Roman,serif\" font-size=\"14.00\">value = [1, 1]</text>\n",
       "<text text-anchor=\"middle\" x=\"99.5\" y=\"-100.7\" font-family=\"Times New Roman,serif\" font-size=\"14.00\">class = &#45;1</text>\n",
       "</g>\n",
       "<!-- 1&#45;&gt;2 -->\n",
       "<g id=\"edge2\" class=\"edge\">\n",
       "<title>1&#45;&gt;2</title>\n",
       "<path fill=\"none\" stroke=\"black\" d=\"M147.32,-203.24C141.8,-194.96 135.87,-186.05 130.11,-177.42\"/>\n",
       "<polygon fill=\"black\" stroke=\"black\" points=\"133.03,-175.49 124.57,-169.11 127.21,-179.37 133.03,-175.49\"/>\n",
       "</g>\n",
       "<!-- 5 -->\n",
       "<g id=\"node6\" class=\"node\">\n",
       "<title>5</title>\n",
       "<polygon fill=\"#399de5\" stroke=\"black\" points=\"289,-159.25 198,-159.25 198,-101.75 289,-101.75 289,-159.25\"/>\n",
       "<text text-anchor=\"middle\" x=\"243.5\" y=\"-141.95\" font-family=\"Times New Roman,serif\" font-size=\"14.00\">samples = 2</text>\n",
       "<text text-anchor=\"middle\" x=\"243.5\" y=\"-125.45\" font-family=\"Times New Roman,serif\" font-size=\"14.00\">value = [0, 2]</text>\n",
       "<text text-anchor=\"middle\" x=\"243.5\" y=\"-108.95\" font-family=\"Times New Roman,serif\" font-size=\"14.00\">class = 1</text>\n",
       "</g>\n",
       "<!-- 1&#45;&gt;5 -->\n",
       "<g id=\"edge5\" class=\"edge\">\n",
       "<title>1&#45;&gt;5</title>\n",
       "<path fill=\"none\" stroke=\"black\" d=\"M195.68,-203.24C203.01,-192.24 211.07,-180.14 218.46,-169.06\"/>\n",
       "<polygon fill=\"black\" stroke=\"black\" points=\"221.26,-171.16 223.9,-160.9 215.44,-167.28 221.26,-171.16\"/>\n",
       "</g>\n",
       "<!-- 3 -->\n",
       "<g id=\"node4\" class=\"node\">\n",
       "<title>3</title>\n",
       "<polygon fill=\"#399de5\" stroke=\"black\" points=\"91,-57.5 0,-57.5 0,0 91,0 91,-57.5\"/>\n",
       "<text text-anchor=\"middle\" x=\"45.5\" y=\"-40.2\" font-family=\"Times New Roman,serif\" font-size=\"14.00\">samples = 1</text>\n",
       "<text text-anchor=\"middle\" x=\"45.5\" y=\"-23.7\" font-family=\"Times New Roman,serif\" font-size=\"14.00\">value = [0, 1]</text>\n",
       "<text text-anchor=\"middle\" x=\"45.5\" y=\"-7.2\" font-family=\"Times New Roman,serif\" font-size=\"14.00\">class = 1</text>\n",
       "</g>\n",
       "<!-- 2&#45;&gt;3 -->\n",
       "<g id=\"edge3\" class=\"edge\">\n",
       "<title>2&#45;&gt;3</title>\n",
       "<path fill=\"none\" stroke=\"black\" d=\"M79.85,-93.21C75.35,-84.89 70.55,-76.03 66.01,-67.65\"/>\n",
       "<polygon fill=\"black\" stroke=\"black\" points=\"69.21,-66.19 61.37,-59.06 63.05,-69.52 69.21,-66.19\"/>\n",
       "</g>\n",
       "<!-- 4 -->\n",
       "<g id=\"node5\" class=\"node\">\n",
       "<title>4</title>\n",
       "<polygon fill=\"#e58139\" stroke=\"black\" points=\"200,-57.5 109,-57.5 109,0 200,0 200,-57.5\"/>\n",
       "<text text-anchor=\"middle\" x=\"154.5\" y=\"-40.2\" font-family=\"Times New Roman,serif\" font-size=\"14.00\">samples = 1</text>\n",
       "<text text-anchor=\"middle\" x=\"154.5\" y=\"-23.7\" font-family=\"Times New Roman,serif\" font-size=\"14.00\">value = [1, 0]</text>\n",
       "<text text-anchor=\"middle\" x=\"154.5\" y=\"-7.2\" font-family=\"Times New Roman,serif\" font-size=\"14.00\">class = &#45;1</text>\n",
       "</g>\n",
       "<!-- 2&#45;&gt;4 -->\n",
       "<g id=\"edge4\" class=\"edge\">\n",
       "<title>2&#45;&gt;4</title>\n",
       "<path fill=\"none\" stroke=\"black\" d=\"M119.51,-93.21C124.1,-84.89 128.98,-76.03 133.61,-67.65\"/>\n",
       "<polygon fill=\"black\" stroke=\"black\" points=\"136.58,-69.5 138.34,-59.05 130.45,-66.12 136.58,-69.5\"/>\n",
       "</g>\n",
       "</g>\n",
       "</svg>\n"
      ],
      "text/plain": [
       "<graphviz.sources.Source at 0x2745e4b6760>"
      ]
     },
     "execution_count": 45,
     "metadata": {},
     "output_type": "execute_result"
    }
   ],
   "source": [
    "import graphviz\n",
    "\n",
    "with open(\"tree.dot\") as f:\n",
    "    dot_graph = f.read()\n",
    "graphviz.Source(dot_graph)"
   ]
  },
  {
   "cell_type": "markdown",
   "id": "1a3301c5",
   "metadata": {},
   "source": [
    "## Random Forest"
   ]
  },
  {
   "cell_type": "code",
   "execution_count": 66,
   "id": "cc7ebbed",
   "metadata": {},
   "outputs": [
    {
     "data": {
      "text/plain": [
       "RandomForestClassifier(n_estimators=5, random_state=2)"
      ]
     },
     "execution_count": 66,
     "metadata": {},
     "output_type": "execute_result"
    }
   ],
   "source": [
    "forest = RandomForestClassifier(n_estimators=5, random_state=2)\n",
    "forest.fit(X_train, y_train)"
   ]
  },
  {
   "cell_type": "code",
   "execution_count": 67,
   "id": "3395cc63",
   "metadata": {},
   "outputs": [
    {
     "name": "stdout",
     "output_type": "stream",
     "text": [
      "Accuracy on training set: 0.875\n",
      "Accuracy on test set: 0.500\n"
     ]
    }
   ],
   "source": [
    "print(\"Accuracy on training set: {:.3f}\".format(forest.score(X_train, y_train)))\n",
    "print(\"Accuracy on test set: {:.3f}\".format(forest.score(X_test, y_test)))"
   ]
  }
 ],
 "metadata": {
  "kernelspec": {
   "display_name": "Python 3 (ipykernel)",
   "language": "python",
   "name": "python3"
  },
  "language_info": {
   "codemirror_mode": {
    "name": "ipython",
    "version": 3
   },
   "file_extension": ".py",
   "mimetype": "text/x-python",
   "name": "python",
   "nbconvert_exporter": "python",
   "pygments_lexer": "ipython3",
   "version": "3.9.7"
  }
 },
 "nbformat": 4,
 "nbformat_minor": 5
}
