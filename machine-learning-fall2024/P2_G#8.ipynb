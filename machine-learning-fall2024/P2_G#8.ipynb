{
 "cells": [
  {
   "cell_type": "markdown",
   "metadata": {},
   "source": [
    "## P2_G#8\n",
    "## Maria Giambruno-Fuge, Bethany Lazarus, Sarah Jones"
   ]
  },
  {
   "cell_type": "code",
   "execution_count": 1,
   "metadata": {
    "cell_id": "dcf3dbdee50248399530dbc5c9be3bf4",
    "deepnote_cell_type": "code",
    "execution_context_id": "16ce525b-6d95-4152-bb52-95d8288d93ab",
    "execution_millis": 481,
    "execution_start": 1730581003201,
    "source_hash": "2e715c12"
   },
   "outputs": [],
   "source": [
    "#importing neccessary parts of sklearn to run kmeans clustering\n",
    "from sklearn.cluster import KMeans\n",
    "\n",
    "#importing pandas to disect the data\n",
    "import pandas as pd\n",
    "\n",
    "#allows splitting of the data set for train and test\n",
    "from sklearn.model_selection import train_test_split\n",
    "\n",
    "#importing neccessary parts of sklearn to run agglomerative clustering\n",
    "from sklearn.cluster import AgglomerativeClustering"
   ]
  },
  {
   "cell_type": "markdown",
   "metadata": {
    "cell_id": "5af94026cb3c41f19c46736d2c3d8e1c",
    "deepnote_cell_type": "text-cell-p",
    "formattedRanges": []
   },
   "source": []
  },
  {
   "cell_type": "code",
   "execution_count": 2,
   "metadata": {
    "cell_id": "f8e7261b3b2f474094375f13cab37e19",
    "deepnote_cell_type": "code",
    "execution_context_id": "16ce525b-6d95-4152-bb52-95d8288d93ab",
    "execution_millis": 1,
    "execution_start": 1730581003733,
    "source_hash": "14bf986c"
   },
   "outputs": [],
   "source": [
    "#column names for data set\n",
    "column_names=[\"sp\", \"sex\", \"index\", \"FL\", \"RW\", \"CL\", \"CW\", \"BD\"]"
   ]
  },
  {
   "cell_type": "code",
   "execution_count": 3,
   "metadata": {
    "cell_id": "cae62a97b9054b1886166cc10efd830f",
    "deepnote_cell_type": "code",
    "execution_context_id": "16ce525b-6d95-4152-bb52-95d8288d93ab",
    "execution_millis": 107,
    "execution_start": 1730581003785,
    "source_hash": "85ea5320"
   },
   "outputs": [],
   "source": [
    "#importing data from my computer\n",
    "data = pd.read_csv('australian-crabs.csv', names=column_names)"
   ]
  },
  {
   "cell_type": "code",
   "execution_count": 4,
   "metadata": {
    "cell_id": "08bd274ed1b74d4fa0e3ddb432063941",
    "deepnote_cell_type": "code",
    "execution_context_id": "16ce525b-6d95-4152-bb52-95d8288d93ab",
    "execution_millis": 10,
    "execution_start": 1730581003941,
    "source_hash": "41313cfa"
   },
   "outputs": [
    {
     "data": {
      "text/html": [
       "<div>\n",
       "<style scoped>\n",
       "    .dataframe tbody tr th:only-of-type {\n",
       "        vertical-align: middle;\n",
       "    }\n",
       "\n",
       "    .dataframe tbody tr th {\n",
       "        vertical-align: top;\n",
       "    }\n",
       "\n",
       "    .dataframe thead th {\n",
       "        text-align: right;\n",
       "    }\n",
       "</style>\n",
       "<table border=\"1\" class=\"dataframe\">\n",
       "  <thead>\n",
       "    <tr style=\"text-align: right;\">\n",
       "      <th></th>\n",
       "      <th>sp</th>\n",
       "      <th>sex</th>\n",
       "      <th>index</th>\n",
       "      <th>FL</th>\n",
       "      <th>RW</th>\n",
       "      <th>CL</th>\n",
       "      <th>CW</th>\n",
       "      <th>BD</th>\n",
       "    </tr>\n",
       "  </thead>\n",
       "  <tbody>\n",
       "    <tr>\n",
       "      <th>0</th>\n",
       "      <td>Blue</td>\n",
       "      <td>Male</td>\n",
       "      <td>1</td>\n",
       "      <td>8.1</td>\n",
       "      <td>6.7</td>\n",
       "      <td>16.1</td>\n",
       "      <td>19.0</td>\n",
       "      <td>7.0</td>\n",
       "    </tr>\n",
       "    <tr>\n",
       "      <th>1</th>\n",
       "      <td>Blue</td>\n",
       "      <td>Male</td>\n",
       "      <td>2</td>\n",
       "      <td>8.8</td>\n",
       "      <td>7.7</td>\n",
       "      <td>18.1</td>\n",
       "      <td>20.8</td>\n",
       "      <td>7.4</td>\n",
       "    </tr>\n",
       "    <tr>\n",
       "      <th>2</th>\n",
       "      <td>Blue</td>\n",
       "      <td>Male</td>\n",
       "      <td>3</td>\n",
       "      <td>9.2</td>\n",
       "      <td>7.8</td>\n",
       "      <td>19.0</td>\n",
       "      <td>22.4</td>\n",
       "      <td>7.7</td>\n",
       "    </tr>\n",
       "    <tr>\n",
       "      <th>3</th>\n",
       "      <td>Blue</td>\n",
       "      <td>Male</td>\n",
       "      <td>4</td>\n",
       "      <td>9.6</td>\n",
       "      <td>7.9</td>\n",
       "      <td>20.1</td>\n",
       "      <td>23.1</td>\n",
       "      <td>8.2</td>\n",
       "    </tr>\n",
       "    <tr>\n",
       "      <th>4</th>\n",
       "      <td>Blue</td>\n",
       "      <td>Male</td>\n",
       "      <td>5</td>\n",
       "      <td>9.8</td>\n",
       "      <td>8.0</td>\n",
       "      <td>20.3</td>\n",
       "      <td>23.0</td>\n",
       "      <td>8.2</td>\n",
       "    </tr>\n",
       "  </tbody>\n",
       "</table>\n",
       "</div>"
      ],
      "text/plain": [
       "     sp   sex  index   FL   RW    CL    CW   BD\n",
       "0  Blue  Male      1  8.1  6.7  16.1  19.0  7.0\n",
       "1  Blue  Male      2  8.8  7.7  18.1  20.8  7.4\n",
       "2  Blue  Male      3  9.2  7.8  19.0  22.4  7.7\n",
       "3  Blue  Male      4  9.6  7.9  20.1  23.1  8.2\n",
       "4  Blue  Male      5  9.8  8.0  20.3  23.0  8.2"
      ]
     },
     "execution_count": 4,
     "metadata": {},
     "output_type": "execute_result"
    }
   ],
   "source": [
    "data.head()"
   ]
  },
  {
   "cell_type": "code",
   "execution_count": 5,
   "metadata": {
    "cell_id": "3b2980eb85a244899fb83cf09285e3b6",
    "deepnote_cell_type": "code",
    "execution_context_id": "16ce525b-6d95-4152-bb52-95d8288d93ab",
    "execution_millis": 0,
    "execution_start": 1730581003993,
    "source_hash": "c1d512d1"
   },
   "outputs": [],
   "source": [
    "#Replaceing sp column blue=0 and orange=1\n",
    "data['sp'].replace('Blue', 0, inplace=True)\n",
    "data['sp'].replace('Orange', 1, inplace=True)"
   ]
  },
  {
   "cell_type": "code",
   "execution_count": 6,
   "metadata": {
    "cell_id": "2bc7d8158dcf40f8b5f417b637c679f6",
    "deepnote_cell_type": "code",
    "execution_context_id": "16ce525b-6d95-4152-bb52-95d8288d93ab",
    "execution_millis": 1,
    "execution_start": 1730581004041,
    "source_hash": "773a28b5"
   },
   "outputs": [
    {
     "name": "stdout",
     "output_type": "stream",
     "text": [
      "     sp     sex  index    FL    RW    CL    CW    BD\n",
      "0     0    Male      1   8.1   6.7  16.1  19.0   7.0\n",
      "1     0    Male      2   8.8   7.7  18.1  20.8   7.4\n",
      "2     0    Male      3   9.2   7.8  19.0  22.4   7.7\n",
      "3     0    Male      4   9.6   7.9  20.1  23.1   8.2\n",
      "4     0    Male      5   9.8   8.0  20.3  23.0   8.2\n",
      "..   ..     ...    ...   ...   ...   ...   ...   ...\n",
      "195   1  Female     46  21.4  18.0  41.2  46.2  18.7\n",
      "196   1  Female     47  21.7  17.1  41.7  47.2  19.6\n",
      "197   1  Female     48  21.9  17.2  42.6  47.4  19.5\n",
      "198   1  Female     49  22.5  17.2  43.0  48.7  19.8\n",
      "199   1  Female     50  23.1  20.2  46.2  52.5  21.1\n",
      "\n",
      "[200 rows x 8 columns]\n"
     ]
    }
   ],
   "source": [
    "#Checking that the sp column was replaced properly\n",
    "print(data)"
   ]
  },
  {
   "cell_type": "code",
   "execution_count": 7,
   "metadata": {
    "cell_id": "6f1815112cd6442389876a89b9c1bd00",
    "deepnote_cell_type": "code",
    "execution_context_id": "16ce525b-6d95-4152-bb52-95d8288d93ab",
    "execution_millis": 0,
    "execution_start": 1730581004097,
    "source_hash": "5b2a1a07"
   },
   "outputs": [],
   "source": [
    "#Replaceing sex column male=0 and female=1\n",
    "data['sex'].replace('Male', 0, inplace=True)\n",
    "data['sex'].replace('Female', 1, inplace=True)"
   ]
  },
  {
   "cell_type": "code",
   "execution_count": 8,
   "metadata": {
    "cell_id": "77319a27f20e46869a8b2f7c62eb20b4",
    "deepnote_cell_type": "code",
    "execution_context_id": "16ce525b-6d95-4152-bb52-95d8288d93ab",
    "execution_millis": 1,
    "execution_start": 1730581004145,
    "source_hash": "773a28b5"
   },
   "outputs": [
    {
     "name": "stdout",
     "output_type": "stream",
     "text": [
      "     sp  sex  index    FL    RW    CL    CW    BD\n",
      "0     0    0      1   8.1   6.7  16.1  19.0   7.0\n",
      "1     0    0      2   8.8   7.7  18.1  20.8   7.4\n",
      "2     0    0      3   9.2   7.8  19.0  22.4   7.7\n",
      "3     0    0      4   9.6   7.9  20.1  23.1   8.2\n",
      "4     0    0      5   9.8   8.0  20.3  23.0   8.2\n",
      "..   ..  ...    ...   ...   ...   ...   ...   ...\n",
      "195   1    1     46  21.4  18.0  41.2  46.2  18.7\n",
      "196   1    1     47  21.7  17.1  41.7  47.2  19.6\n",
      "197   1    1     48  21.9  17.2  42.6  47.4  19.5\n",
      "198   1    1     49  22.5  17.2  43.0  48.7  19.8\n",
      "199   1    1     50  23.1  20.2  46.2  52.5  21.1\n",
      "\n",
      "[200 rows x 8 columns]\n"
     ]
    }
   ],
   "source": [
    "#Checking that the sp column was replaced properly\n",
    "print(data)"
   ]
  },
  {
   "cell_type": "code",
   "execution_count": 9,
   "metadata": {
    "cell_id": "f2b5d48140fb4c0184aa619328242686",
    "deepnote_cell_type": "code",
    "execution_context_id": "16ce525b-6d95-4152-bb52-95d8288d93ab",
    "execution_millis": 0,
    "execution_start": 1730581004197,
    "source_hash": "4f2bf5d9"
   },
   "outputs": [],
   "source": [
    "# Separate features (X)\n",
    "# X contains only morphological measurements\n",
    "X= data.drop(columns=['sp', 'sex', 'index'])\n",
    "\n",
    "# our y values are the ground truth\n",
    "# ground truth is for later use in ARI calculation\n",
    "y= data['sp']"
   ]
  },
  {
   "cell_type": "code",
   "execution_count": 10,
   "metadata": {
    "cell_id": "ddbc3922c63647a0a60cfb293dfcfb30",
    "deepnote_cell_type": "code",
    "execution_context_id": "16ce525b-6d95-4152-bb52-95d8288d93ab",
    "execution_millis": 1,
    "execution_start": 1730581004245,
    "source_hash": "4f418796"
   },
   "outputs": [
    {
     "name": "stdout",
     "output_type": "stream",
     "text": [
      "       FL    RW    CL    CW    BD\n",
      "0     8.1   6.7  16.1  19.0   7.0\n",
      "1     8.8   7.7  18.1  20.8   7.4\n",
      "2     9.2   7.8  19.0  22.4   7.7\n",
      "3     9.6   7.9  20.1  23.1   8.2\n",
      "4     9.8   8.0  20.3  23.0   8.2\n",
      "..    ...   ...   ...   ...   ...\n",
      "195  21.4  18.0  41.2  46.2  18.7\n",
      "196  21.7  17.1  41.7  47.2  19.6\n",
      "197  21.9  17.2  42.6  47.4  19.5\n",
      "198  22.5  17.2  43.0  48.7  19.8\n",
      "199  23.1  20.2  46.2  52.5  21.1\n",
      "\n",
      "[200 rows x 5 columns]\n"
     ]
    }
   ],
   "source": [
    "#Ensuring the data set (X) only contains morphological measurements\n",
    "print(X)"
   ]
  },
  {
   "cell_type": "code",
   "execution_count": 11,
   "metadata": {
    "cell_id": "43cfeb333b794b0296ed521920e4d254",
    "deepnote_cell_type": "code",
    "execution_context_id": "16ce525b-6d95-4152-bb52-95d8288d93ab",
    "execution_millis": 1,
    "execution_start": 1730581004293,
    "source_hash": "62e93a54"
   },
   "outputs": [
    {
     "name": "stdout",
     "output_type": "stream",
     "text": [
      "0    0\n",
      "1    0\n",
      "2    0\n",
      "3    0\n",
      "4    0\n",
      "Name: sp, dtype: int64\n"
     ]
    }
   ],
   "source": [
    "# Ensuring y contains the ground truth\n",
    "print(y.head())"
   ]
  },
  {
   "cell_type": "code",
   "execution_count": 12,
   "metadata": {
    "cell_id": "55f737a465d546888f86d101fba3bd11",
    "deepnote_cell_type": "code",
    "execution_context_id": "16ce525b-6d95-4152-bb52-95d8288d93ab",
    "execution_millis": 133,
    "execution_start": 1730581004345,
    "source_hash": "5d715e0a"
   },
   "outputs": [
    {
     "data": {
      "text/plain": [
       "KMeans(n_clusters=2)"
      ]
     },
     "execution_count": 12,
     "metadata": {},
     "output_type": "execute_result"
    }
   ],
   "source": [
    "#building the kmeans clustering model\n",
    "kmeans= KMeans(n_clusters=2)\n",
    "kmeans.fit(X)"
   ]
  },
  {
   "cell_type": "code",
   "execution_count": 13,
   "metadata": {
    "cell_id": "957c1cf3255e416dad76c5e65c417963",
    "deepnote_cell_type": "code",
    "execution_context_id": "16ce525b-6d95-4152-bb52-95d8288d93ab",
    "execution_millis": 51,
    "execution_start": 1730581004525,
    "source_hash": "f75ee31c"
   },
   "outputs": [
    {
     "name": "stdout",
     "output_type": "stream",
     "text": [
      "Cluster memberships:\n",
      "[0 0 0 0 0 0 0 0 0 0 0 0 0 0 0 0 0 0 0 0 0 0 0 0 0 0 1 1 1 1 1 1 1 1 1 1 1\n",
      " 1 1 1 1 1 1 1 1 1 1 1 1 1 0 0 0 0 0 0 0 0 0 0 0 0 0 0 0 0 0 0 0 0 0 0 0 0\n",
      " 0 0 0 0 0 0 0 0 1 0 0 0 1 1 1 1 1 1 1 1 1 1 1 1 1 1 0 0 0 0 0 0 0 0 0 0 0\n",
      " 0 0 0 0 0 0 0 0 0 0 0 0 0 0 1 1 1 1 1 1 1 1 1 1 1 1 1 1 1 1 1 1 1 1 1 1 1\n",
      " 1 1 0 0 0 0 0 0 0 0 0 0 0 0 0 0 0 0 0 0 1 1 1 1 1 1 1 1 1 1 1 1 1 1 1 1 1\n",
      " 1 1 1 1 1 1 1 1 1 1 1 1 1 1 1]\n"
     ]
    }
   ],
   "source": [
    "#printing cluster labels on the training set\n",
    "print(\"Cluster memberships:\\n{}\".format(kmeans.labels_))"
   ]
  },
  {
   "cell_type": "code",
   "execution_count": 14,
   "metadata": {
    "cell_id": "d173b282b60143be8c3a3a2db01e14b2",
    "deepnote_cell_type": "code",
    "execution_context_id": "16ce525b-6d95-4152-bb52-95d8288d93ab",
    "execution_millis": 1,
    "execution_start": 1730581004625,
    "source_hash": "398b5c6e"
   },
   "outputs": [],
   "source": [
    "#building the agglomerative clustering model\n",
    "agg= AgglomerativeClustering(n_clusters=2)\n",
    "assignment=agg.fit_predict(X)"
   ]
  },
  {
   "cell_type": "code",
   "execution_count": 15,
   "metadata": {
    "cell_id": "295a1bf2e30b4072b4ba9cef0c2b9e9f",
    "deepnote_cell_type": "code",
    "execution_context_id": "16ce525b-6d95-4152-bb52-95d8288d93ab",
    "execution_millis": 1,
    "execution_start": 1730581004673,
    "source_hash": "9b222e92"
   },
   "outputs": [
    {
     "name": "stdout",
     "output_type": "stream",
     "text": [
      "Cluster memberships:\n",
      "[0 0 0 0 0 0 0 0 0 0 0 0 0 0 0 0 0 0 0 0 0 0 0 0 0 0 0 1 0 0 1 1 1 1 1 1 1\n",
      " 1 1 1 1 1 1 1 1 1 1 1 1 1 0 0 0 0 0 0 0 0 0 0 0 0 0 0 0 0 0 0 0 0 0 0 0 0\n",
      " 0 0 0 0 0 0 0 0 0 0 0 0 0 0 0 0 0 0 0 0 0 0 1 1 1 1 0 0 0 0 0 0 0 0 0 0 0\n",
      " 0 0 0 0 0 0 0 0 0 0 0 0 0 0 0 1 0 0 1 1 1 1 1 1 1 1 1 1 1 1 1 1 1 1 1 1 1\n",
      " 1 1 0 0 0 0 0 0 0 0 0 0 0 0 0 0 0 0 0 0 0 0 0 0 0 0 0 1 1 1 1 1 0 1 1 1 1\n",
      " 1 1 1 1 1 1 1 1 1 1 1 1 1 1 1]\n"
     ]
    }
   ],
   "source": [
    "#printing cluster labels on the training set\n",
    "print(\"Cluster memberships:\\n{}\".format(agg.labels_))"
   ]
  },
  {
   "cell_type": "code",
   "execution_count": 16,
   "metadata": {
    "cell_id": "ad4becca4e954940ade28bae1e51eb90",
    "deepnote_cell_type": "code",
    "execution_context_id": "16ce525b-6d95-4152-bb52-95d8288d93ab",
    "execution_millis": 0,
    "execution_start": 1730581004721,
    "source_hash": "2663e455"
   },
   "outputs": [],
   "source": [
    "# importing sklearn metrics for Adjusted Rand Index\n",
    "from sklearn.metrics.cluster import adjusted_rand_score"
   ]
  },
  {
   "cell_type": "code",
   "execution_count": 17,
   "metadata": {
    "cell_id": "c8fa01467b894400b0f0c5e48c622f48",
    "deepnote_cell_type": "code",
    "execution_context_id": "16ce525b-6d95-4152-bb52-95d8288d93ab",
    "execution_millis": 0,
    "execution_start": 1730581004769,
    "source_hash": "d0749cd4"
   },
   "outputs": [
    {
     "name": "stdout",
     "output_type": "stream",
     "text": [
      "0      0\n",
      "1      0\n",
      "2      0\n",
      "3      0\n",
      "4      0\n",
      "      ..\n",
      "195    1\n",
      "196    1\n",
      "197    1\n",
      "198    1\n",
      "199    1\n",
      "Name: sp, Length: 200, dtype: int64\n"
     ]
    }
   ],
   "source": [
    "# Ground truth classes: 0 and 1\n",
    "# 0 for Blue; 1 for Orange\n",
    "# printing our ground truth classes again for the y variable\n",
    "print(y)"
   ]
  },
  {
   "cell_type": "code",
   "execution_count": 18,
   "metadata": {
    "cell_id": "2074f0b6bf1e496ea0fcc45e0bfbbe50",
    "deepnote_cell_type": "code",
    "execution_context_id": "16ce525b-6d95-4152-bb52-95d8288d93ab",
    "execution_millis": 0,
    "execution_start": 1730581004817,
    "source_hash": "fe158238"
   },
   "outputs": [],
   "source": [
    "# Assigning predicted kmeans clusters to variable\n",
    "kmeans_predicted = kmeans.labels_"
   ]
  },
  {
   "cell_type": "code",
   "execution_count": 19,
   "metadata": {
    "cell_id": "71de3914070b4822b4036153e8da05d7",
    "deepnote_cell_type": "code",
    "execution_context_id": "16ce525b-6d95-4152-bb52-95d8288d93ab",
    "execution_millis": 0,
    "execution_start": 1730581004865,
    "source_hash": "a33670b6"
   },
   "outputs": [],
   "source": [
    "# Assigning predicted agglomerative clusters to variable\n",
    "agg_predicted = agg.labels_"
   ]
  },
  {
   "cell_type": "code",
   "execution_count": 20,
   "metadata": {
    "cell_id": "0c6bc571fdbb4c12bb7bd54fa7ce721b",
    "deepnote_cell_type": "code",
    "execution_context_id": "16ce525b-6d95-4152-bb52-95d8288d93ab",
    "execution_millis": 0,
    "execution_start": 1730581004913,
    "source_hash": "99b33e72"
   },
   "outputs": [
    {
     "name": "stdout",
     "output_type": "stream",
     "text": [
      "Adjusted Rand Index of kmeans: 0.028\n"
     ]
    }
   ],
   "source": [
    "# Computing Adjusted Rand Index for KMeans\n",
    "print(\"Adjusted Rand Index of kmeans: {:.3f}\".format(\n",
    "    adjusted_rand_score(y, kmeans_predicted)))"
   ]
  },
  {
   "cell_type": "code",
   "execution_count": 21,
   "metadata": {
    "cell_id": "87e7c7789ab74a79a21c1d40630155f4",
    "deepnote_cell_type": "code",
    "execution_context_id": "16ce525b-6d95-4152-bb52-95d8288d93ab",
    "execution_millis": 0,
    "execution_start": 1730581004965,
    "source_hash": "41bd2a8e"
   },
   "outputs": [
    {
     "name": "stdout",
     "output_type": "stream",
     "text": [
      "Adjusted Rand Index of agglomerative: 0.040\n"
     ]
    }
   ],
   "source": [
    "print(\"Adjusted Rand Index of agglomerative: {:.3f}\".format(\n",
    "    adjusted_rand_score(y, agg_predicted)))"
   ]
  },
  {
   "cell_type": "markdown",
   "metadata": {
    "cell_id": "a112e4f9510948018a8bf53944f9ae71",
    "deepnote_cell_type": "code",
    "execution_context_id": "16ce525b-6d95-4152-bb52-95d8288d93ab",
    "execution_millis": 0,
    "execution_start": 1730581005013,
    "source_hash": "a875c6e8"
   },
   "source": [
    "### Notebook comment on ARI\n",
    "Adjusted Rand Index of the KMeans clustering model is 0.028. Adjusted Rand Index of the Agglomerative clustering model is 0.040.\n",
    "    The clustering algorithm with a better outcome on the crabs dataset using the ARI measure is the agglomerative clustering model. Although not much higher than the kmeans clustering model, the agglomerative clustering model has an ARI closer to 1. Similar to a correlation coefficient, a value closer to 1 indicates a stronger and intuitive cluster relationship in varying shapes and sizes. The ARI takes the ground truth values and predicted cluster labels as parameters for the ARI function, which indicates how well the predicted cluster labels match the predefined ground truth labels/classifications."
   ]
  },
  {
   "cell_type": "code",
   "execution_count": 23,
   "metadata": {
    "cell_id": "677c2850fe2446d295d090dd85bb63f3",
    "deepnote_cell_type": "code",
    "execution_context_id": "16ce525b-6d95-4152-bb52-95d8288d93ab",
    "execution_millis": 0,
    "execution_start": 1730582060913,
    "source_hash": "314a8f2a"
   },
   "outputs": [
    {
     "name": "stdout",
     "output_type": "stream",
     "text": [
      "Original shape: (200, 5)\n",
      "Reduced shape: (200, 2)\n"
     ]
    }
   ],
   "source": [
    "#Applying PCA \n",
    "from sklearn.decomposition import PCA\n",
    "\n",
    "pca = PCA(n_components=2)\n",
    "pca.fit(X)\n",
    "X_pca = pca.transform(X)\n",
    "\n",
    "#displaying data shape\n",
    "print(\"Original shape: {}\".format(str(X.shape)))\n",
    "print(\"Reduced shape: {}\".format(str(X_pca.shape)))"
   ]
  },
  {
   "cell_type": "code",
   "execution_count": 24,
   "metadata": {
    "cell_id": "e6fab3a3a82b4dd2b82867bff23abd5a",
    "deepnote_cell_type": "code",
    "execution_context_id": "16ce525b-6d95-4152-bb52-95d8288d93ab",
    "execution_millis": 0,
    "execution_start": 1730583986809,
    "scrolled": true,
    "source_hash": "9eb25a3"
   },
   "outputs": [
    {
     "data": {
      "text/plain": [
       "Text(0, 0.5, 'Second principal component')"
      ]
     },
     "execution_count": 24,
     "metadata": {},
     "output_type": "execute_result"
    },
    {
     "data": {
      "image/png": "[encoded data removed]",
      "text/plain": [
       "<Figure size 576x576 with 1 Axes>"
      ]
     },
     "metadata": {
      "needs_background": "light"
     },
     "output_type": "display_data"
    }
   ],
   "source": [
    "#plot with 2 principal components\n",
    "from matplotlib import pyplot as plt\n",
    "import mglearn\n",
    "plt.figure(figsize=(8,8))\n",
    "mglearn.discrete_scatter(X_pca[:, 0], X_pca[:, 1], y)\n",
    "plt.legend([\"Cluster 0\", \"Cluster 1\"], loc=\"best\")\n",
    "plt.gca()\n",
    "plt.xlabel(\"First principal component\")\n",
    "plt.ylabel(\"Second principal component\")"
   ]
  },
  {
   "cell_type": "markdown",
   "metadata": {
    "created_in_deepnote_cell": true,
    "deepnote_cell_type": "markdown"
   },
   "source": [
    "<a style='text-decoration:none;line-height:16px;display:flex;color:#5B5B62;padding:10px;justify-content:end;' href='https://deepnote.com?utm_source=created-in-deepnote-cell&projectId=f746981b-2d76-45ff-9dd7-1d3aabdbb75c' target=\"_blank\">\n",
    "<img alt='Created in deepnote.com' style='display:inline;max-height:16px;margin:0px;margin-right:7.5px;' src='data:image/svg+xml;base64,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' > </img>\n",
    "Created in <span style='font-weight:600;margin-left:4px;'>Deepnote</span></a>"
   ]
  }
 ],
 "metadata": {
  "deepnote_notebook_id": "f5fed283c1e4449eb119f34568cff49f",
  "kernelspec": {
   "display_name": "Python 3 (ipykernel)",
   "language": "python",
   "name": "python3"
  },
  "language_info": {
   "codemirror_mode": {
    "name": "ipython",
    "version": 3
   },
   "file_extension": ".py",
   "mimetype": "text/x-python",
   "name": "python",
   "nbconvert_exporter": "python",
   "pygments_lexer": "ipython3",
   "version": "3.9.7"
  }
 },
 "nbformat": 4,
 "nbformat_minor": 1
}
