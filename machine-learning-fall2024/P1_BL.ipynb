{
 "cells": [
  {
   "cell_type": "markdown",
   "id": "ac4de834",
   "metadata": {},
   "source": [
    "## Bethany's Code for Decision Trees"
   ]
  },
  {
   "cell_type": "code",
   "execution_count": 25,
   "id": "fdd4378c",
   "metadata": {},
   "outputs": [],
   "source": [
    "# import lines\n",
    "import pandas as pd\n",
    "from sklearn.ensemble import RandomForestClassifier, RandomForestRegressor\n",
    "from sklearn.model_selection import train_test_split"
   ]
  },
  {
   "cell_type": "code",
   "execution_count": 2,
   "id": "a45cc277",
   "metadata": {},
   "outputs": [],
   "source": [
    "# reading csv dataset into data object\n",
    "data = pd.read_csv('winequality-red.csv', sep=';')"
   ]
  },
  {
   "cell_type": "code",
   "execution_count": 3,
   "id": "9e6e5588",
   "metadata": {},
   "outputs": [
    {
     "data": {
      "text/html": [
       "<div>\n",
       "<style scoped>\n",
       "    .dataframe tbody tr th:only-of-type {\n",
       "        vertical-align: middle;\n",
       "    }\n",
       "\n",
       "    .dataframe tbody tr th {\n",
       "        vertical-align: top;\n",
       "    }\n",
       "\n",
       "    .dataframe thead th {\n",
       "        text-align: right;\n",
       "    }\n",
       "</style>\n",
       "<table border=\"1\" class=\"dataframe\">\n",
       "  <thead>\n",
       "    <tr style=\"text-align: right;\">\n",
       "      <th></th>\n",
       "      <th>fixed acidity</th>\n",
       "      <th>volatile acidity</th>\n",
       "      <th>citric acid</th>\n",
       "      <th>residual sugar</th>\n",
       "      <th>chlorides</th>\n",
       "      <th>free sulfur dioxide</th>\n",
       "      <th>total sulfur dioxide</th>\n",
       "      <th>density</th>\n",
       "      <th>pH</th>\n",
       "      <th>sulphates</th>\n",
       "      <th>alcohol</th>\n",
       "      <th>quality</th>\n",
       "    </tr>\n",
       "  </thead>\n",
       "  <tbody>\n",
       "    <tr>\n",
       "      <th>0</th>\n",
       "      <td>7.4</td>\n",
       "      <td>0.70</td>\n",
       "      <td>0.00</td>\n",
       "      <td>1.9</td>\n",
       "      <td>0.076</td>\n",
       "      <td>11.0</td>\n",
       "      <td>34.0</td>\n",
       "      <td>0.9978</td>\n",
       "      <td>3.51</td>\n",
       "      <td>0.56</td>\n",
       "      <td>9.4</td>\n",
       "      <td>5</td>\n",
       "    </tr>\n",
       "    <tr>\n",
       "      <th>1</th>\n",
       "      <td>7.8</td>\n",
       "      <td>0.88</td>\n",
       "      <td>0.00</td>\n",
       "      <td>2.6</td>\n",
       "      <td>0.098</td>\n",
       "      <td>25.0</td>\n",
       "      <td>67.0</td>\n",
       "      <td>0.9968</td>\n",
       "      <td>3.20</td>\n",
       "      <td>0.68</td>\n",
       "      <td>9.8</td>\n",
       "      <td>5</td>\n",
       "    </tr>\n",
       "    <tr>\n",
       "      <th>2</th>\n",
       "      <td>7.8</td>\n",
       "      <td>0.76</td>\n",
       "      <td>0.04</td>\n",
       "      <td>2.3</td>\n",
       "      <td>0.092</td>\n",
       "      <td>15.0</td>\n",
       "      <td>54.0</td>\n",
       "      <td>0.9970</td>\n",
       "      <td>3.26</td>\n",
       "      <td>0.65</td>\n",
       "      <td>9.8</td>\n",
       "      <td>5</td>\n",
       "    </tr>\n",
       "    <tr>\n",
       "      <th>3</th>\n",
       "      <td>11.2</td>\n",
       "      <td>0.28</td>\n",
       "      <td>0.56</td>\n",
       "      <td>1.9</td>\n",
       "      <td>0.075</td>\n",
       "      <td>17.0</td>\n",
       "      <td>60.0</td>\n",
       "      <td>0.9980</td>\n",
       "      <td>3.16</td>\n",
       "      <td>0.58</td>\n",
       "      <td>9.8</td>\n",
       "      <td>6</td>\n",
       "    </tr>\n",
       "    <tr>\n",
       "      <th>4</th>\n",
       "      <td>7.4</td>\n",
       "      <td>0.70</td>\n",
       "      <td>0.00</td>\n",
       "      <td>1.9</td>\n",
       "      <td>0.076</td>\n",
       "      <td>11.0</td>\n",
       "      <td>34.0</td>\n",
       "      <td>0.9978</td>\n",
       "      <td>3.51</td>\n",
       "      <td>0.56</td>\n",
       "      <td>9.4</td>\n",
       "      <td>5</td>\n",
       "    </tr>\n",
       "  </tbody>\n",
       "</table>\n",
       "</div>"
      ],
      "text/plain": [
       "   fixed acidity  volatile acidity  citric acid  residual sugar  chlorides  \\\n",
       "0            7.4              0.70         0.00             1.9      0.076   \n",
       "1            7.8              0.88         0.00             2.6      0.098   \n",
       "2            7.8              0.76         0.04             2.3      0.092   \n",
       "3           11.2              0.28         0.56             1.9      0.075   \n",
       "4            7.4              0.70         0.00             1.9      0.076   \n",
       "\n",
       "   free sulfur dioxide  total sulfur dioxide  density    pH  sulphates  \\\n",
       "0                 11.0                  34.0   0.9978  3.51       0.56   \n",
       "1                 25.0                  67.0   0.9968  3.20       0.68   \n",
       "2                 15.0                  54.0   0.9970  3.26       0.65   \n",
       "3                 17.0                  60.0   0.9980  3.16       0.58   \n",
       "4                 11.0                  34.0   0.9978  3.51       0.56   \n",
       "\n",
       "   alcohol  quality  \n",
       "0      9.4        5  \n",
       "1      9.8        5  \n",
       "2      9.8        5  \n",
       "3      9.8        6  \n",
       "4      9.4        5  "
      ]
     },
     "execution_count": 3,
     "metadata": {},
     "output_type": "execute_result"
    }
   ],
   "source": [
    "# first five rows of dataframe\n",
    "data.head()"
   ]
  },
  {
   "cell_type": "code",
   "execution_count": 4,
   "id": "2890cad5",
   "metadata": {},
   "outputs": [
    {
     "data": {
      "text/plain": [
       "count    1599.000000\n",
       "mean        5.636023\n",
       "std         0.807569\n",
       "min         3.000000\n",
       "25%         5.000000\n",
       "50%         6.000000\n",
       "75%         6.000000\n",
       "max         8.000000\n",
       "Name: quality, dtype: float64"
      ]
     },
     "execution_count": 4,
     "metadata": {},
     "output_type": "execute_result"
    }
   ],
   "source": [
    "data['quality'].describe()"
   ]
  },
  {
   "cell_type": "code",
   "execution_count": 5,
   "id": "dffe4f43",
   "metadata": {},
   "outputs": [
    {
     "name": "stdout",
     "output_type": "stream",
     "text": [
      "      fixed acidity  volatile acidity  citric acid  residual sugar  chlorides  \\\n",
      "0               7.4             0.700         0.00             1.9      0.076   \n",
      "1               7.8             0.880         0.00             2.6      0.098   \n",
      "2               7.8             0.760         0.04             2.3      0.092   \n",
      "3              11.2             0.280         0.56             1.9      0.075   \n",
      "4               7.4             0.700         0.00             1.9      0.076   \n",
      "...             ...               ...          ...             ...        ...   \n",
      "1594            6.2             0.600         0.08             2.0      0.090   \n",
      "1595            5.9             0.550         0.10             2.2      0.062   \n",
      "1596            6.3             0.510         0.13             2.3      0.076   \n",
      "1597            5.9             0.645         0.12             2.0      0.075   \n",
      "1598            6.0             0.310         0.47             3.6      0.067   \n",
      "\n",
      "      free sulfur dioxide  total sulfur dioxide  density    pH  sulphates  \\\n",
      "0                    11.0                  34.0  0.99780  3.51       0.56   \n",
      "1                    25.0                  67.0  0.99680  3.20       0.68   \n",
      "2                    15.0                  54.0  0.99700  3.26       0.65   \n",
      "3                    17.0                  60.0  0.99800  3.16       0.58   \n",
      "4                    11.0                  34.0  0.99780  3.51       0.56   \n",
      "...                   ...                   ...      ...   ...        ...   \n",
      "1594                 32.0                  44.0  0.99490  3.45       0.58   \n",
      "1595                 39.0                  51.0  0.99512  3.52       0.76   \n",
      "1596                 29.0                  40.0  0.99574  3.42       0.75   \n",
      "1597                 32.0                  44.0  0.99547  3.57       0.71   \n",
      "1598                 18.0                  42.0  0.99549  3.39       0.66   \n",
      "\n",
      "      alcohol  \n",
      "0         9.4  \n",
      "1         9.8  \n",
      "2         9.8  \n",
      "3         9.8  \n",
      "4         9.4  \n",
      "...       ...  \n",
      "1594     10.5  \n",
      "1595     11.2  \n",
      "1596     11.0  \n",
      "1597     10.2  \n",
      "1598     11.0  \n",
      "\n",
      "[1599 rows x 11 columns]\n"
     ]
    }
   ],
   "source": [
    "# separate X and y objects into features and target variables\n",
    "X = data.drop(columns=['quality'])\n",
    "print(X)"
   ]
  },
  {
   "cell_type": "code",
   "execution_count": 6,
   "id": "29a0e55a",
   "metadata": {},
   "outputs": [
    {
     "name": "stdout",
     "output_type": "stream",
     "text": [
      "0       5\n",
      "1       5\n",
      "2       5\n",
      "3       6\n",
      "4       5\n",
      "       ..\n",
      "1594    5\n",
      "1595    6\n",
      "1596    6\n",
      "1597    5\n",
      "1598    6\n",
      "Name: quality, Length: 1599, dtype: int64\n"
     ]
    }
   ],
   "source": [
    "y = data['quality']\n",
    "print(y)"
   ]
  },
  {
   "cell_type": "code",
   "execution_count": 7,
   "id": "a8e53562",
   "metadata": {},
   "outputs": [],
   "source": [
    "# splitting data\n",
    "# good rule of thumb is to split into 70% train and 30% test\n",
    "X_train, X_test, y_train, y_test = train_test_split(X, y, test_size = 0.3, random_state=42)"
   ]
  },
  {
   "cell_type": "code",
   "execution_count": 8,
   "id": "3e182d44",
   "metadata": {},
   "outputs": [
    {
     "name": "stdout",
     "output_type": "stream",
     "text": [
      "(1119, 11)\n",
      "(480, 11)\n",
      "(1119,)\n",
      "(480,)\n"
     ]
    }
   ],
   "source": [
    "# checking shape of train and test sets\n",
    "print(X_train.shape)\n",
    "print(X_test.shape)\n",
    "print(y_train.shape)\n",
    "print(y_test.shape)"
   ]
  },
  {
   "cell_type": "code",
   "execution_count": 9,
   "id": "24791234",
   "metadata": {},
   "outputs": [],
   "source": [
    "# FIRST MODEL\n",
    "# instantiation and fitting Random Forest using RandomForestClassifier\n",
    "# Parameters: n_estimators=2\n",
    "forest = RandomForestClassifier(n_estimators=2, random_state=42).fit(X_train, y_train)"
   ]
  },
  {
   "cell_type": "code",
   "execution_count": 10,
   "id": "9b77c15a",
   "metadata": {},
   "outputs": [
    {
     "name": "stdout",
     "output_type": "stream",
     "text": [
      "Accuracy on training set: 0.855\n",
      "Accuracy on test set: 0.546\n"
     ]
    }
   ],
   "source": [
    "print(\"Accuracy on training set: {:.3f}\".format(forest.score(X_train, y_train)))\n",
    "print(\"Accuracy on test set: {:.3f}\".format(forest.score(X_test, y_test)))\n",
    "\n",
    "# already a sign of overfitting from the first model"
   ]
  },
  {
   "cell_type": "code",
   "execution_count": 11,
   "id": "aaca1338",
   "metadata": {},
   "outputs": [],
   "source": [
    "# SECOND MODEL\n",
    "# instantiation and fitting Random Forest using RandomForestClassifier\n",
    "# Parameters: n_estimators=50\n",
    "forest = RandomForestClassifier(n_estimators=50, random_state=42).fit(X_train, y_train)"
   ]
  },
  {
   "cell_type": "code",
   "execution_count": 12,
   "id": "104ab5fb",
   "metadata": {
    "scrolled": true
   },
   "outputs": [
    {
     "name": "stdout",
     "output_type": "stream",
     "text": [
      "Accuracy on training set: 1.000\n",
      "Accuracy on test set: 0.652\n"
     ]
    }
   ],
   "source": [
    "print(\"Accuracy on training set: {:.3f}\".format(forest.score(X_train, y_train)))\n",
    "print(\"Accuracy on test set: {:.3f}\".format(forest.score(X_test, y_test)))"
   ]
  },
  {
   "cell_type": "code",
   "execution_count": 13,
   "id": "d402dceb",
   "metadata": {},
   "outputs": [],
   "source": [
    "# THIRD MODEL\n",
    "# instantiation and fitting Random Forest using RandomForestClassifier\n",
    "# Parameters: n_estimators=12; high enough to separate from model where n_estimators=50\n",
    "forest = RandomForestClassifier(n_estimators=12, random_state=42).fit(X_train, y_train)"
   ]
  },
  {
   "cell_type": "code",
   "execution_count": 14,
   "id": "46d7919a",
   "metadata": {},
   "outputs": [
    {
     "name": "stdout",
     "output_type": "stream",
     "text": [
      "Accuracy on training set: 0.991\n",
      "Accuracy on test set: 0.633\n"
     ]
    }
   ],
   "source": [
    "print(\"Accuracy on training set: {:.3f}\".format(forest.score(X_train, y_train)))\n",
    "print(\"Accuracy on test set: {:.3f}\".format(forest.score(X_test, y_test)))"
   ]
  },
  {
   "cell_type": "code",
   "execution_count": 15,
   "id": "b8473b34",
   "metadata": {},
   "outputs": [],
   "source": [
    "# FOURTH MODEL\n",
    "# instantiation and fitting Random Forest using RandomForestClassifier\n",
    "# Parameters: n_estimators=12 and max_features=11\n",
    "# trying high number of max_features\n",
    "forest = RandomForestClassifier(n_estimators=12, max_features=11, random_state=42).fit(X_train, y_train)"
   ]
  },
  {
   "cell_type": "code",
   "execution_count": 16,
   "id": "8390e9eb",
   "metadata": {},
   "outputs": [
    {
     "name": "stdout",
     "output_type": "stream",
     "text": [
      "Accuracy on training set: 0.991\n",
      "Accuracy on test set: 0.662\n"
     ]
    }
   ],
   "source": [
    "print(\"Accuracy on training set: {:.3f}\".format(forest.score(X_train, y_train)))\n",
    "print(\"Accuracy on test set: {:.3f}\".format(forest.score(X_test, y_test)))"
   ]
  },
  {
   "cell_type": "code",
   "execution_count": 17,
   "id": "092274ce",
   "metadata": {},
   "outputs": [
    {
     "name": "stdout",
     "output_type": "stream",
     "text": [
      "Shape of probabilities for wine dataset: (480, 6)\n"
     ]
    }
   ],
   "source": [
    "# Predicted Probabilities matrix for best performing model - FOURTH MODEL\n",
    "# showing that there are 6 classes\n",
    "print(\"Shape of probabilities for wine dataset: {}\".format(forest.predict_proba(X_test).shape))"
   ]
  },
  {
   "cell_type": "code",
   "execution_count": 18,
   "id": "67904693",
   "metadata": {
    "scrolled": true
   },
   "outputs": [
    {
     "name": "stdout",
     "output_type": "stream",
     "text": [
      "Predicted probabilities: \n",
      "[[0.         0.         0.66666667 0.25       0.08333333 0.        ]\n",
      " [0.         0.16666667 0.5        0.33333333 0.         0.        ]\n",
      " [0.08333333 0.         0.33333333 0.58333333 0.         0.        ]\n",
      " [0.         0.16666667 0.58333333 0.25       0.         0.        ]\n",
      " [0.         0.         0.         1.         0.         0.        ]\n",
      " [0.         0.         0.75       0.25       0.         0.        ]]\n"
     ]
    }
   ],
   "source": [
    "print(\"Predicted probabilities: \\n{}\".format(forest.predict_proba(X_test[:6])))"
   ]
  },
  {
   "cell_type": "code",
   "execution_count": 19,
   "id": "c16a2306",
   "metadata": {},
   "outputs": [],
   "source": [
    "# FIFTH MODEL\n",
    "# instantiation and fitting Random Forest using RandomForestClassifier\n",
    "# Parameters: n_estimators=12 and max_features=1\n",
    "# trying low number of max_features\n",
    "forest = RandomForestClassifier(n_estimators=12, max_features=1, random_state=42).fit(X_train, y_train)"
   ]
  },
  {
   "cell_type": "code",
   "execution_count": 20,
   "id": "8301e6d7",
   "metadata": {},
   "outputs": [
    {
     "name": "stdout",
     "output_type": "stream",
     "text": [
      "Accuracy on training set: 0.989\n",
      "Accuracy on test set: 0.640\n"
     ]
    }
   ],
   "source": [
    "print(\"Accuracy on training set: {:.3f}\".format(forest.score(X_train, y_train)))\n",
    "print(\"Accuracy on test set: {:.3f}\".format(forest.score(X_test, y_test)))"
   ]
  },
  {
   "cell_type": "code",
   "execution_count": 21,
   "id": "17e8b8ed",
   "metadata": {},
   "outputs": [],
   "source": [
    "# SIXTH MODEL\n",
    "# instantiation and fitting Random Forest using RandomForestClassifier\n",
    "# Parameters: n_estimators=12, max_features=1, max_depth=10\n",
    "# trying to reduce overfitting with max_depth=10\n",
    "forest = RandomForestClassifier(n_estimators=12, max_features=1, max_depth=10, random_state=42).fit(X_train, y_train)"
   ]
  },
  {
   "cell_type": "code",
   "execution_count": 22,
   "id": "30162674",
   "metadata": {},
   "outputs": [
    {
     "name": "stdout",
     "output_type": "stream",
     "text": [
      "Accuracy on training set: 0.895\n",
      "Accuracy on test set: 0.635\n"
     ]
    }
   ],
   "source": [
    "print(\"Accuracy on training set: {:.3f}\".format(forest.score(X_train, y_train)))\n",
    "print(\"Accuracy on test set: {:.3f}\".format(forest.score(X_test, y_test)))"
   ]
  },
  {
   "cell_type": "code",
   "execution_count": 23,
   "id": "ddd9102f",
   "metadata": {},
   "outputs": [],
   "source": [
    "# SEVENTH MODEL\n",
    "# instantiation and fitting Random Forest using RandomForestClassifier\n",
    "# Parameters: n_estimators=12, max_features=1, max_depth=10\n",
    "# trying to reduce overfitting with max_depth=5\n",
    "forest = RandomForestClassifier(n_estimators=12, max_features=1, max_depth=5, random_state=42).fit(X_train, y_train)"
   ]
  },
  {
   "cell_type": "code",
   "execution_count": 24,
   "id": "553e5def",
   "metadata": {
    "scrolled": true
   },
   "outputs": [
    {
     "name": "stdout",
     "output_type": "stream",
     "text": [
      "Accuracy on training set: 0.686\n",
      "Accuracy on test set: 0.571\n"
     ]
    }
   ],
   "source": [
    "print(\"Accuracy on training set: {:.3f}\".format(forest.score(X_train, y_train)))\n",
    "print(\"Accuracy on test set: {:.3f}\".format(forest.score(X_test, y_test)))"
   ]
  }
 ],
 "metadata": {
  "kernelspec": {
   "display_name": "Python 3 (ipykernel)",
   "language": "python",
   "name": "python3"
  },
  "language_info": {
   "codemirror_mode": {
    "name": "ipython",
    "version": 3
   },
   "file_extension": ".py",
   "mimetype": "text/x-python",
   "name": "python",
   "nbconvert_exporter": "python",
   "pygments_lexer": "ipython3",
   "version": "3.9.7"
  }
 },
 "nbformat": 4,
 "nbformat_minor": 5
}
